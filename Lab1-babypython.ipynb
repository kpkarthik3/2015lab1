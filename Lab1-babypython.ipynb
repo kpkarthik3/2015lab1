{
 "cells": [
  {
   "cell_type": "markdown",
   "metadata": {},
   "source": [
    "# Python and Friends\n",
    "\n",
    "This is a very quick run-through of some python syntax"
   ]
  },
  {
   "cell_type": "code",
   "execution_count": 2,
   "metadata": {
    "collapsed": true
   },
   "outputs": [],
   "source": [
    "# The %... is an iPython thing, and is not part of the Python language.\n",
    "# In this case we're just telling the plotting library to draw things on\n",
    "# the notebook, instead of on a separate window.\n",
    "%matplotlib inline \n",
    "#this line above prepares IPython notebook for working with matplotlib\n",
    "\n",
    "# See all the \"as ...\" contructs? They're just aliasing the package names.\n",
    "# That way we can call methods like plt.plot() instead of matplotlib.pyplot.plot().\n",
    "\n",
    "import numpy as np # imports a fast numerical programming library\n",
    "import scipy as sp #imports stats functions, amongst other things\n",
    "import matplotlib as mpl # this actually imports matplotlib\n",
    "import matplotlib.cm as cm #allows us easy access to colormaps\n",
    "import matplotlib.pyplot as plt #sets up plotting under plt\n",
    "import pandas as pd #lets us handle data as dataframes\n",
    "#sets up pandas table display\n",
    "pd.set_option('display.width', 500)\n",
    "pd.set_option('display.max_columns', 100)\n",
    "pd.set_option('display.notebook_repr_html', True)\n",
    "import seaborn as sns #sets up styles and gives us more plotting options"
   ]
  },
  {
   "cell_type": "markdown",
   "metadata": {},
   "source": [
    "##The Python Language\n",
    "\n",
    "Lets talk about using Python as a calculator..."
   ]
  },
  {
   "cell_type": "code",
   "execution_count": 2,
   "metadata": {},
   "outputs": [
    {
     "data": {
      "text/plain": [
       "3"
      ]
     },
     "execution_count": 2,
     "metadata": {},
     "output_type": "execute_result"
    }
   ],
   "source": [
    "1+2"
   ]
  },
  {
   "cell_type": "markdown",
   "metadata": {},
   "source": [
    "Notice integer division and floating-point error below!"
   ]
  },
  {
   "cell_type": "code",
   "execution_count": 3,
   "metadata": {},
   "outputs": [
    {
     "data": {
      "text/plain": [
       "(0, 0.5, 9.600000000000001)"
      ]
     },
     "execution_count": 3,
     "metadata": {},
     "output_type": "execute_result"
    }
   ],
   "source": [
    "1/2,1.0/2.0,3*3.2"
   ]
  },
  {
   "cell_type": "markdown",
   "metadata": {},
   "source": [
    "Here is how we can print things. Something on the last line by itself is returned as the output value."
   ]
  },
  {
   "cell_type": "code",
   "execution_count": 4,
   "metadata": {},
   "outputs": [
    {
     "name": "stdout",
     "output_type": "stream",
     "text": [
      "4.0 \n",
      "1.66666666667\n"
     ]
    },
    {
     "data": {
      "text/plain": [
       "1"
      ]
     },
     "execution_count": 4,
     "metadata": {},
     "output_type": "execute_result"
    }
   ],
   "source": [
    "print 1+3.0,\"\\n\",5/3.0\n",
    "5/3"
   ]
  },
  {
   "cell_type": "markdown",
   "metadata": {},
   "source": [
    "We can obtain the type of a variable, and use boolean comparisons tontest these types."
   ]
  },
  {
   "cell_type": "code",
   "execution_count": 5,
   "metadata": {},
   "outputs": [
    {
     "name": "stdout",
     "output_type": "stream",
     "text": [
      "0.833333333333\n",
      "<type 'float'>\n"
     ]
    }
   ],
   "source": [
    "a=5.0/6.0\n",
    "print(a)\n",
    "print type(a)"
   ]
  },
  {
   "cell_type": "code",
   "execution_count": 6,
   "metadata": {},
   "outputs": [
    {
     "data": {
      "text/plain": [
       "True"
      ]
     },
     "execution_count": 6,
     "metadata": {},
     "output_type": "execute_result"
    }
   ],
   "source": [
    "import types\n",
    "type(a)==types.FloatType"
   ]
  },
  {
   "cell_type": "code",
   "execution_count": 7,
   "metadata": {},
   "outputs": [
    {
     "data": {
      "text/plain": [
       "False"
      ]
     },
     "execution_count": 7,
     "metadata": {},
     "output_type": "execute_result"
    }
   ],
   "source": [
    "type(a)==types.IntType"
   ]
  },
  {
   "cell_type": "markdown",
   "metadata": {},
   "source": [
    "## Python and Iteration (and files)\n",
    "\n",
    "In working with python I always remember: a python is a duck.\n",
    "\n",
    "What I mean is, python has a certain way of doing things. For example lets call one of these ways listiness. Listiness works on lists, dictionaries, files, and a general notion of something called an iterator.\n",
    "\n",
    "But first, lets introduce the notion of a comprehension. Its a way of constructing a list"
   ]
  },
  {
   "cell_type": "code",
   "execution_count": 1,
   "metadata": {},
   "outputs": [
    {
     "data": {
      "text/plain": [
       "[1, 4, 9, 16, 25]"
      ]
     },
     "execution_count": 1,
     "metadata": {},
     "output_type": "execute_result"
    }
   ],
   "source": [
    "alist=[1,2,3,4,5]\n",
    "asquaredlist=[i*i for i in alist]\n",
    "asquaredlist"
   ]
  },
  {
   "cell_type": "markdown",
   "metadata": {},
   "source": [
    "Python has some nifty functions like `enumerate` and `zip`. The former gives a list of tuples with each tuple of the form `(index, value)`, while the latter takes elements from each list and outs them together into a tuple, thus creating a list of tuples. The first is a duck, but the second isnt."
   ]
  },
  {
   "cell_type": "code",
   "execution_count": 3,
   "metadata": {},
   "outputs": [
    {
     "data": {
      "text/plain": [
       "(<enumerate at 0x11c5d7438>, <zip at 0x111ca1848>)"
      ]
     },
     "execution_count": 3,
     "metadata": {},
     "output_type": "execute_result"
    }
   ],
   "source": [
    "enumerate(asquaredlist),zip(alist, asquaredlist)"
   ]
  },
  {
   "cell_type": "markdown",
   "metadata": {},
   "source": [
    "Someone realized that design flaw and created izip."
   ]
  },
  {
   "cell_type": "code",
   "execution_count": 5,
   "metadata": {},
   "outputs": [
    {
     "ename": "ImportError",
     "evalue": "cannot import name 'izip'",
     "output_type": "error",
     "traceback": [
      "\u001b[0;31m---------------------------------------------------------------------------\u001b[0m",
      "\u001b[0;31mImportError\u001b[0m                               Traceback (most recent call last)",
      "\u001b[0;32m<ipython-input-5-35e99909f1ed>\u001b[0m in \u001b[0;36m<module>\u001b[0;34m()\u001b[0m\n\u001b[0;32m----> 1\u001b[0;31m \u001b[0;32mfrom\u001b[0m \u001b[0mitertools\u001b[0m \u001b[0;32mimport\u001b[0m \u001b[0mizip\u001b[0m\u001b[0;34m\u001b[0m\u001b[0m\n\u001b[0m\u001b[1;32m      2\u001b[0m \u001b[0mizip\u001b[0m\u001b[0;34m(\u001b[0m\u001b[0malist\u001b[0m\u001b[0;34m,\u001b[0m \u001b[0masquaredlist\u001b[0m\u001b[0;34m)\u001b[0m\u001b[0;34m\u001b[0m\u001b[0m\n",
      "\u001b[0;31mImportError\u001b[0m: cannot import name 'izip'"
     ]
    }
   ],
   "source": [
    "from itertools import izip\n",
    "izip(alist, asquaredlist)"
   ]
  },
  {
   "cell_type": "code",
   "execution_count": 4,
   "metadata": {},
   "outputs": [
    {
     "ename": "SyntaxError",
     "evalue": "invalid syntax (<ipython-input-4-12e6cadcd0d3>, line 1)",
     "output_type": "error",
     "traceback": [
      "\u001b[0;36m  File \u001b[0;32m\"<ipython-input-4-12e6cadcd0d3>\"\u001b[0;36m, line \u001b[0;32m1\u001b[0m\n\u001b[0;31m    print enumerate(asquaredlist)\u001b[0m\n\u001b[0m                  ^\u001b[0m\n\u001b[0;31mSyntaxError\u001b[0m\u001b[0;31m:\u001b[0m invalid syntax\n"
     ]
    }
   ],
   "source": [
    "print enumerate(asquaredlist)"
   ]
  },
  {
   "cell_type": "code",
   "execution_count": 12,
   "metadata": {},
   "outputs": [
    {
     "data": {
      "text/plain": [
       "[(0, 1), (1, 4), (2, 9), (3, 16), (4, 25)]"
      ]
     },
     "execution_count": 12,
     "metadata": {},
     "output_type": "execute_result"
    }
   ],
   "source": [
    "[k for k in enumerate(asquaredlist)]"
   ]
  },
  {
   "cell_type": "markdown",
   "metadata": {},
   "source": [
    "Open files behave like lists too! Here we get each line in the file and find its length, using the comprehension syntax to put these lengths into a big list."
   ]
  },
  {
   "cell_type": "code",
   "execution_count": 126,
   "metadata": {},
   "outputs": [],
   "source": [
    "linelengths=[len(line) for line in open(\"hamlet.txt\")]#poor code as we dont close the file\n",
    "#print linelengths"
   ]
  },
  {
   "cell_type": "code",
   "execution_count": 14,
   "metadata": {},
   "outputs": [
    {
     "data": {
      "text/plain": [
       "(180718, 26.69394387001477, 26.0, 21.029872021427462)"
      ]
     },
     "execution_count": 14,
     "metadata": {},
     "output_type": "execute_result"
    }
   ],
   "source": [
    "sum(linelengths), np.mean(linelengths), np.median(linelengths), np.std(linelengths)"
   ]
  },
  {
   "cell_type": "markdown",
   "metadata": {},
   "source": [
    "But perhaps we want to access Hamlet word by word and not line by line"
   ]
  },
  {
   "cell_type": "code",
   "execution_count": 6,
   "metadata": {},
   "outputs": [
    {
     "data": {
      "text/plain": [
       "31659"
      ]
     },
     "execution_count": 6,
     "metadata": {},
     "output_type": "execute_result"
    }
   ],
   "source": [
    "hamletfile=open(\"hamlet.txt\")\n",
    "hamlettext=hamletfile.read()\n",
    "hamletfile.close()\n",
    "hamlettokens=hamlettext.split()#split with no arguments splits on whitespace\n",
    "len(hamlettokens)"
   ]
  },
  {
   "cell_type": "markdown",
   "metadata": {},
   "source": [
    "One can use the `with` syntax which cretaes a context. The file closing is then done automatically for us."
   ]
  },
  {
   "cell_type": "code",
   "execution_count": 127,
   "metadata": {},
   "outputs": [],
   "source": [
    "with open(\"hamlet.txt\") as hamletfile:\n",
    "    hamlettext=hamletfile.read()\n",
    "    hamlettokens=hamlettext.split()\n",
    "   # print (hamlettokens)\n"
   ]
  },
  {
   "cell_type": "markdown",
   "metadata": {},
   "source": [
    "There are roughly 32,000 words in Hamlet."
   ]
  },
  {
   "cell_type": "markdown",
   "metadata": {},
   "source": [
    "###The indexing of lists"
   ]
  },
  {
   "cell_type": "code",
   "execution_count": 128,
   "metadata": {},
   "outputs": [],
   "source": [
    "#print hamlettext[:1000]#first 1000 characters from Hamlet."
   ]
  },
  {
   "cell_type": "code",
   "execution_count": 129,
   "metadata": {},
   "outputs": [],
   "source": [
    "#print hamlettext[-1000:]#and last 1000 characters from Hamlet."
   ]
  },
  {
   "cell_type": "markdown",
   "metadata": {},
   "source": [
    "Lets split the word tokens. The first one below reads, give me the second, third, and fourth words (remember that python is 0 indexed). Try and figure what the others mean."
   ]
  },
  {
   "cell_type": "code",
   "execution_count": 32,
   "metadata": {},
   "outputs": [
    {
     "name": "stdout",
     "output_type": "stream",
     "text": [
      "['HAMLET,', 'PRINCE', 'OF'] ['\\ufeffXXXX', 'HAMLET,', 'PRINCE', 'OF'] ﻿XXXX off.]\n"
     ]
    }
   ],
   "source": [
    "print (hamlettokens[1:4], hamlettokens[:4], hamlettokens[0], hamlettokens[-1])"
   ]
  },
  {
   "cell_type": "code",
   "execution_count": 35,
   "metadata": {},
   "outputs": [
    {
     "data": {
      "text/plain": [
       "list"
      ]
     },
     "execution_count": 35,
     "metadata": {},
     "output_type": "execute_result"
    }
   ],
   "source": [
    "type(hamlettokens)"
   ]
  },
  {
   "cell_type": "code",
   "execution_count": 34,
   "metadata": {},
   "outputs": [
    {
     "data": {
      "text/plain": [
       "['HAMLET,', 'DENMARK', 'Shakespeare']"
      ]
     },
     "execution_count": 34,
     "metadata": {},
     "output_type": "execute_result"
    }
   ],
   "source": [
    "hamlettokens[1:8:3]#get every 2nd world between the 2nd and the 9th: ie 2nd, 4th, 6th, and 8th"
   ]
  },
  {
   "cell_type": "markdown",
   "metadata": {},
   "source": [
    "range and xrange get the list of integers upto N. But xrange behaves like an iterator. The reason for this is that there is no point generaing all os a million integers. We can just add 1 to the previous one and save memory. So we trade off storage for computation."
   ]
  },
  {
   "cell_type": "code",
   "execution_count": 18,
   "metadata": {},
   "outputs": [
    {
     "data": {
      "text/plain": [
       "[0, 1, 2, 3, 4, 5, 6, 7, 8, 9]"
      ]
     },
     "execution_count": 18,
     "metadata": {},
     "output_type": "execute_result"
    }
   ],
   "source": [
    "mylist=[]\n",
    "for i in xrange(10):\n",
    "    mylist.append(i)\n",
    "mylist"
   ]
  },
  {
   "cell_type": "markdown",
   "metadata": {},
   "source": [
    "## Dictionaries\n",
    "\n",
    "These are the bread and butter. You will use them a lot. They even duck like lists. But be careful how."
   ]
  },
  {
   "cell_type": "code",
   "execution_count": 36,
   "metadata": {},
   "outputs": [
    {
     "name": "stdout",
     "output_type": "stream",
     "text": [
      "['one', 'two', 'three'] [('one', 1), ('two', 2), ('three', 3)] dict_values([1, 2, 3])\n"
     ]
    }
   ],
   "source": [
    "adict={'one':1, 'two': 2, 'three': 3}\n",
    "print ( [i for i in adict], [(k,v) for k,v in adict.items()], adict.values())"
   ]
  },
  {
   "cell_type": "markdown",
   "metadata": {},
   "source": [
    "The keys do not have to be strings. From python 2.7 you can use dictionary comprehensions as well"
   ]
  },
  {
   "cell_type": "code",
   "execution_count": 20,
   "metadata": {},
   "outputs": [
    {
     "data": {
      "text/plain": [
       "{1: 1, 2: 4, 3: 9, 4: 16, 5: 25}"
      ]
     },
     "execution_count": 20,
     "metadata": {},
     "output_type": "execute_result"
    }
   ],
   "source": [
    "mydict ={k:v for (k,v) in zip(alist, asquaredlist)}\n",
    "mydict"
   ]
  },
  {
   "cell_type": "markdown",
   "metadata": {},
   "source": [
    "You can construct then nicely using the function `dict`."
   ]
  },
  {
   "cell_type": "code",
   "execution_count": 46,
   "metadata": {},
   "outputs": [
    {
     "data": {
      "text/plain": [
       "{'a': 1, 'b': 2}"
      ]
     },
     "execution_count": 46,
     "metadata": {},
     "output_type": "execute_result"
    }
   ],
   "source": [
    "dict(a=1, b=2)"
   ]
  },
  {
   "cell_type": "markdown",
   "metadata": {},
   "source": [
    "###and conversion to json"
   ]
  },
  {
   "cell_type": "code",
   "execution_count": 21,
   "metadata": {
    "collapsed": true
   },
   "outputs": [],
   "source": [
    "import json"
   ]
  },
  {
   "cell_type": "code",
   "execution_count": 22,
   "metadata": {},
   "outputs": [
    {
     "name": "stdout",
     "output_type": "stream",
     "text": [
      "{\"1\": 1, \"2\": 4, \"3\": 9, \"4\": 16, \"5\": 25}\n"
     ]
    }
   ],
   "source": [
    "s=json.dumps(mydict)\n",
    "print s"
   ]
  },
  {
   "cell_type": "code",
   "execution_count": 23,
   "metadata": {},
   "outputs": [
    {
     "data": {
      "text/plain": [
       "{u'1': 1, u'2': 4, u'3': 9, u'4': 16, u'5': 25}"
      ]
     },
     "execution_count": 23,
     "metadata": {},
     "output_type": "execute_result"
    }
   ],
   "source": [
    "json.loads(s)"
   ]
  },
  {
   "cell_type": "markdown",
   "metadata": {},
   "source": [
    "## Strings\n",
    "\n",
    "Basically they behave like immutable lists"
   ]
  },
  {
   "cell_type": "code",
   "execution_count": 37,
   "metadata": {},
   "outputs": [
    {
     "name": "stdout",
     "output_type": "stream",
     "text": [
      "off.]\n"
     ]
    }
   ],
   "source": [
    "lastword=hamlettokens[-1]\n",
    "print(lastword)"
   ]
  },
  {
   "cell_type": "code",
   "execution_count": 44,
   "metadata": {
    "collapsed": true
   },
   "outputs": [],
   "source": [
    "lastword=\"kiahf1\"#cant change a part of a string"
   ]
  },
  {
   "cell_type": "code",
   "execution_count": 45,
   "metadata": {},
   "outputs": [
    {
     "data": {
      "text/plain": [
       "'f'"
      ]
     },
     "execution_count": 45,
     "metadata": {},
     "output_type": "execute_result"
    }
   ],
   "source": [
    "lastword[-2]"
   ]
  },
  {
   "cell_type": "code",
   "execution_count": null,
   "metadata": {
    "collapsed": true
   },
   "outputs": [],
   "source": [
    "You can join a list with a separator to make a string."
   ]
  },
  {
   "cell_type": "code",
   "execution_count": 27,
   "metadata": {},
   "outputs": [
    {
     "data": {
      "text/plain": [
       "\"\\xef\\xbb\\xbfXXXX,HAMLET,,PRINCE,OF,DENMARK,by,William,Shakespeare,PERSONS,REPRESENTED.,Claudius,,King,of,Denmark.,Hamlet,,Son,to,the,former,,and,Nephew,to,the,present,King.,Polonius,,Lord,Chamberlain.,Horatio,,Friend,to,Hamlet.,Laertes,,Son,to,Polonius.,Voltimand,,Courtier.,Cornelius,,Courtier.,Rosencrantz,,Courtier.,Guildenstern,,Courtier.,Osric,,Courtier.,A,Gentleman,,Courtier.,A,Priest.,Marcellus,,Officer.,Bernardo,,Officer.,Francisco,,a,Soldier,Reynaldo,,Servant,to,Polonius.,Players.,Two,Clowns,,Grave-diggers.,Fortinbras,,Prince,of,Norway.,A,Captain.,English,Ambassadors.,Ghost,of,Hamlet's,Father.,Gertrude,,Queen,of,Denmark,,and,Mother,of,Hamlet.,Ophelia,,Daughter,to,Polonius.,Lords,,Ladies,,Officers,,Soldiers,,Sailors,,Messengers,,and,other,Attendants.,SCENE.,Elsinore.,ACT,I.,Scene,I.,Elsinore.,A,platform,before,the,Castle.,[Francisco,at,his,post.,Enter,to,him,Bernardo.],Ber.,Who's,there?,Fran.,Nay,,answer,me:,stand,,and,unfold,yourself.,Ber.,Long,live,the,king!,Fran.,Bernardo?,Ber.,He.,Fra\""
      ]
     },
     "execution_count": 27,
     "metadata": {},
     "output_type": "execute_result"
    }
   ],
   "source": [
    "wierdstring=\",\".join(hamlettokens)\n",
    "wierdstring[:1000]"
   ]
  },
  {
   "cell_type": "markdown",
   "metadata": {},
   "source": [
    "## Functions\n",
    "\n",
    "Functions are even more the bread and butter. You'll see them as methods on objects, or standing alone by themselves."
   ]
  },
  {
   "cell_type": "code",
   "execution_count": 28,
   "metadata": {},
   "outputs": [
    {
     "data": {
      "text/plain": [
       "(25, 125)"
      ]
     },
     "execution_count": 28,
     "metadata": {},
     "output_type": "execute_result"
    }
   ],
   "source": [
    "def square(x):\n",
    "    return(x*x)\n",
    "def cube(x):\n",
    "    return x*x*x\n",
    "square(5),cube(5)"
   ]
  },
  {
   "cell_type": "code",
   "execution_count": 29,
   "metadata": {},
   "outputs": [
    {
     "name": "stdout",
     "output_type": "stream",
     "text": [
      "<function square at 0x109a66500> <type 'function'>\n"
     ]
    }
   ],
   "source": [
    "print square, type(cube)"
   ]
  },
  {
   "cell_type": "markdown",
   "metadata": {},
   "source": [
    "In Python, functions are \"first-class\". This is just a fancy way of saying, you can pass functions to other functions"
   ]
  },
  {
   "cell_type": "code",
   "execution_count": 47,
   "metadata": {},
   "outputs": [
    {
     "name": "stdout",
     "output_type": "stream",
     "text": [
      "3 4 <function square at 0x109a66500>\n"
     ]
    },
    {
     "data": {
      "text/plain": [
       "25"
      ]
     },
     "execution_count": 47,
     "metadata": {},
     "output_type": "execute_result"
    }
   ],
   "source": [
    "def sum_of_anything(x,y,f):\n",
    "    print x,y,f\n",
    "    return(f(x) + f(y))\n",
    "sum_of_anything(3,4,square)"
   ]
  },
  {
   "cell_type": "markdown",
   "metadata": {},
   "source": [
    "Python functions can have positional arguments and keyword arguments. Positional arguments are stored in a tuple, and keyword arguments in a dictionary. Note the \"starred\" syntax"
   ]
  },
  {
   "cell_type": "code",
   "execution_count": 49,
   "metadata": {},
   "outputs": [
    {
     "name": "stdout",
     "output_type": "stream",
     "text": [
      "got 1 3 () {}\n",
      "1\n",
      "got 1 3 (4,) {'d': 1, 'c': 2}\n",
      "1\n"
     ]
    }
   ],
   "source": [
    "def f(a,b,*posargs,**dictargs):\n",
    "    print (\"got\",a,b,posargs, dictargs)\n",
    "    return a\n",
    "print (f(1,3))\n",
    "print (f(1,3,4,d=1,c=2))"
   ]
  },
  {
   "cell_type": "markdown",
   "metadata": {},
   "source": [
    ">**YOUR TURN** create a dictionary with keys the integers upto and including 10, and values the cubes of these dictionaries"
   ]
  },
  {
   "cell_type": "code",
   "execution_count": null,
   "metadata": {
    "collapsed": true
   },
   "outputs": [],
   "source": [
    "#your code here\n",
    "dic_sample = dict(0:1)\n"
   ]
  },
  {
   "cell_type": "markdown",
   "metadata": {},
   "source": [
    "##Booleans and Control-flow\n",
    "\n",
    "Lets test for belonging..."
   ]
  },
  {
   "cell_type": "code",
   "execution_count": 32,
   "metadata": {},
   "outputs": [
    {
     "data": {
      "text/plain": [
       "True"
      ]
     },
     "execution_count": 32,
     "metadata": {},
     "output_type": "execute_result"
    }
   ],
   "source": [
    "a=[1,2,3,4,5]\n",
    "1 in a"
   ]
  },
  {
   "cell_type": "code",
   "execution_count": 33,
   "metadata": {},
   "outputs": [
    {
     "data": {
      "text/plain": [
       "False"
      ]
     },
     "execution_count": 33,
     "metadata": {},
     "output_type": "execute_result"
    }
   ],
   "source": [
    "6 in a"
   ]
  },
  {
   "cell_type": "markdown",
   "metadata": {},
   "source": [
    "Python supports if/elif/else clauses for multi-way conditionals"
   ]
  },
  {
   "cell_type": "code",
   "execution_count": 34,
   "metadata": {},
   "outputs": [
    {
     "name": "stdout",
     "output_type": "stream",
     "text": [
      "One\n"
     ]
    }
   ],
   "source": [
    "def do_it(x):\n",
    "    if x==1:\n",
    "        print \"One\"\n",
    "    elif x==2:\n",
    "        print \"Two\"\n",
    "    else:\n",
    "        print x\n",
    "do_it(1)"
   ]
  },
  {
   "cell_type": "code",
   "execution_count": 35,
   "metadata": {},
   "outputs": [
    {
     "name": "stdout",
     "output_type": "stream",
     "text": [
      "Two\n",
      "3\n"
     ]
    },
    {
     "data": {
      "text/plain": [
       "(None, None)"
      ]
     },
     "execution_count": 35,
     "metadata": {},
     "output_type": "execute_result"
    }
   ],
   "source": [
    "do_it(2), do_it(3)"
   ]
  },
  {
   "cell_type": "markdown",
   "metadata": {},
   "source": [
    "You can `break` out of a loop based on a condition. The loop below is a for loop."
   ]
  },
  {
   "cell_type": "code",
   "execution_count": 36,
   "metadata": {},
   "outputs": [
    {
     "name": "stdout",
     "output_type": "stream",
     "text": [
      "0\n",
      "1\n",
      "2\n",
      "3\n",
      "4\n",
      "5\n",
      "6\n"
     ]
    }
   ],
   "source": [
    "for i in range(10):\n",
    "    print i\n",
    "    if (i > 5):\n",
    "        break"
   ]
  },
  {
   "cell_type": "markdown",
   "metadata": {},
   "source": [
    "While loops are also supported. `continue` continues to the next iteration of the loop skipping all the code below, while `break` breaks out of it."
   ]
  },
  {
   "cell_type": "code",
   "execution_count": 37,
   "metadata": {},
   "outputs": [
    {
     "name": "stdout",
     "output_type": "stream",
     "text": [
      "0\n",
      "1\n",
      "2\n",
      "3\n",
      "4\n"
     ]
    }
   ],
   "source": [
    "i=0\n",
    "while i < 10:\n",
    "    print i\n",
    "    i=i+1\n",
    "    if i < 5:\n",
    "        continue\n",
    "    else:\n",
    "        break\n"
   ]
  },
  {
   "cell_type": "markdown",
   "metadata": {},
   "source": [
    "## Exceptions\n",
    "\n",
    "This is the way to catch errors."
   ]
  },
  {
   "cell_type": "code",
   "execution_count": 38,
   "metadata": {},
   "outputs": [
    {
     "name": "stdout",
     "output_type": "stream",
     "text": [
      "(<type 'exceptions.TypeError'>, TypeError('f() takes at least 2 arguments (1 given)',), <traceback object at 0x109a75050>)\n"
     ]
    }
   ],
   "source": [
    "try:\n",
    "    f(1)#takes atleast 2 arguments\n",
    "except:\n",
    "    import sys\n",
    "    print sys.exc_info()"
   ]
  },
  {
   "cell_type": "markdown",
   "metadata": {},
   "source": [
    "## All together now\n",
    "\n",
    "Lets see what hamlet gives us. We convert all words to lower-case"
   ]
  },
  {
   "cell_type": "code",
   "execution_count": 50,
   "metadata": {},
   "outputs": [
    {
     "data": {
      "text/plain": [
       "95"
      ]
     },
     "execution_count": 50,
     "metadata": {},
     "output_type": "execute_result"
    }
   ],
   "source": [
    "hamletlctokens=[word.lower() for word in hamlettokens]\n",
    "hamletlctokens.count(\"thou\")"
   ]
  },
  {
   "cell_type": "markdown",
   "metadata": {},
   "source": [
    "We then find a unique set of words using python's `set` data structure. We count how often those words occured usinf the `count` method on lists."
   ]
  },
  {
   "cell_type": "code",
   "execution_count": 51,
   "metadata": {},
   "outputs": [
    {
     "data": {
      "text/plain": [
       "{'air;',\n",
       " 'grounds',\n",
       " 'primal',\n",
       " 'done.',\n",
       " 'cannon',\n",
       " 'succession?',\n",
       " 'costly',\n",
       " 'nill',\n",
       " 'encounter:',\n",
       " 'gertrude?',\n",
       " \"perceiv'd\",\n",
       " 'aspect,',\n",
       " \"'it\",\n",
       " 'liar;',\n",
       " 'killed',\n",
       " 'own;',\n",
       " 'tetter',\n",
       " 'ice,',\n",
       " 'home,',\n",
       " 'sleeping',\n",
       " 'unmanly',\n",
       " 'loves',\n",
       " 'nonce;',\n",
       " 'bones',\n",
       " 'sword,',\n",
       " 'cataplasm',\n",
       " 'ever-preserved',\n",
       " 'marriage;',\n",
       " 'odd',\n",
       " 'have,',\n",
       " 'woman.',\n",
       " 'enquire',\n",
       " 'shut',\n",
       " 'laertes',\n",
       " 'lords,',\n",
       " 'laertes?',\n",
       " 'eyes.',\n",
       " 'fear:',\n",
       " 'property',\n",
       " 'upshot,',\n",
       " \"dar'st\",\n",
       " 'fellows',\n",
       " 'is;',\n",
       " 'total',\n",
       " 'deep',\n",
       " 'bravery',\n",
       " 'strumpet.',\n",
       " 'parching',\n",
       " 'charge,--',\n",
       " 'northerly.',\n",
       " 'method,',\n",
       " 'hey-day',\n",
       " 'sea-gown',\n",
       " 'hit;',\n",
       " 'whirling',\n",
       " 'remainder',\n",
       " 'baseness',\n",
       " 'hor.,',\n",
       " 'grand',\n",
       " 'shoulder.]',\n",
       " 'wanton,',\n",
       " 'slay',\n",
       " \"in't:\",\n",
       " 'affair',\n",
       " 'could,',\n",
       " 'heraldry,',\n",
       " 'or',\n",
       " 'revenge',\n",
       " 'ignorant,',\n",
       " 'much,',\n",
       " 'win.',\n",
       " 'spilt.',\n",
       " 'affrighted!',\n",
       " 'dull',\n",
       " 'actively',\n",
       " \"turn'st\",\n",
       " 'god-kissing',\n",
       " 'softly',\n",
       " 'all:--i',\n",
       " 'ominous',\n",
       " 'sheen',\n",
       " 'whose',\n",
       " 'thousand.',\n",
       " 'sanctified',\n",
       " 'myself',\n",
       " 'unwilling',\n",
       " 'ill',\n",
       " 'horatio.',\n",
       " 'hearsed',\n",
       " 'draw',\n",
       " 'comes;',\n",
       " 'down,--',\n",
       " 'their',\n",
       " 'attendants.',\n",
       " 'knocking',\n",
       " 'clutch,',\n",
       " 'soldier;',\n",
       " 'sure,',\n",
       " 'image',\n",
       " 'highness;',\n",
       " 'honeying',\n",
       " '[trumpets',\n",
       " 'over-happy;',\n",
       " 'supper.',\n",
       " 'shouldst',\n",
       " 'behold!',\n",
       " 'whoreson,',\n",
       " 'arms:',\n",
       " 'margent',\n",
       " 'treachery.',\n",
       " 'far.',\n",
       " 'duty,',\n",
       " 'embracing',\n",
       " 'dream:--ay,',\n",
       " 'question;',\n",
       " 'kingdom,',\n",
       " 'hearts,',\n",
       " 'say,--',\n",
       " 'shot',\n",
       " 'closely',\n",
       " 'indentures?',\n",
       " 'it?',\n",
       " 'quicksilver,',\n",
       " 'grinding',\n",
       " 'majesty.',\n",
       " 'king?',\n",
       " \"another's\",\n",
       " 'juggled',\n",
       " 'pirate',\n",
       " 'envious',\n",
       " \"in't;\",\n",
       " 'melodious',\n",
       " 'amen!',\n",
       " 'habit',\n",
       " 'marcellus.]',\n",
       " 'rather,',\n",
       " 'word.--',\n",
       " 'dealt',\n",
       " 'lapwing',\n",
       " 'lands',\n",
       " 'seeming.',\n",
       " 'world',\n",
       " 'queen!',\n",
       " 'tale',\n",
       " 'emulate',\n",
       " \"in's\",\n",
       " 'before,',\n",
       " 'again,',\n",
       " 'himself;',\n",
       " 'count',\n",
       " 'counter,',\n",
       " 'but,',\n",
       " 'fox,',\n",
       " 'light!',\n",
       " \"time,--i'd\",\n",
       " 'business,',\n",
       " \"usurp'st\",\n",
       " 'hurt',\n",
       " 'swallowed:',\n",
       " 'prophetic',\n",
       " 'see!',\n",
       " 'repel',\n",
       " 'hall:',\n",
       " 'sir.',\n",
       " 'them:',\n",
       " 'custom,',\n",
       " \"kiss'd\",\n",
       " 'encounter',\n",
       " 'by.--they',\n",
       " 'pay',\n",
       " 'benefit',\n",
       " 'weasel.',\n",
       " 'stale,',\n",
       " 'beats',\n",
       " 'sirs.',\n",
       " 'angry',\n",
       " 'incorrect',\n",
       " 'stairs',\n",
       " 'whips',\n",
       " 'day',\n",
       " 'answer.',\n",
       " \"receiv'd\",\n",
       " 'shows',\n",
       " 'sepulchre,',\n",
       " 'yourself:',\n",
       " 'violets',\n",
       " 'lord!',\n",
       " 'once:',\n",
       " 'was?',\n",
       " 'assurance',\n",
       " 'strew',\n",
       " 'too',\n",
       " \"embark'd:\",\n",
       " 'overpeering',\n",
       " 'one,',\n",
       " \"cain's\",\n",
       " 'apart',\n",
       " \"'gainst\",\n",
       " 'bow,',\n",
       " 'beggar',\n",
       " 'southerly',\n",
       " 'days',\n",
       " 'warlike',\n",
       " 'paddock,',\n",
       " 'article,',\n",
       " 'denote',\n",
       " 'found,',\n",
       " 'wrung',\n",
       " 'mason,',\n",
       " 'resolutes,',\n",
       " 'cautel',\n",
       " 'defeated',\n",
       " 'form',\n",
       " 'remedy.',\n",
       " 'heaven!',\n",
       " 'cudgel',\n",
       " 'roof',\n",
       " 'day:',\n",
       " 'lend',\n",
       " 'knocked',\n",
       " 'ay,',\n",
       " \"play's\",\n",
       " \"wit's\",\n",
       " 'determination',\n",
       " 'act,',\n",
       " 'sleeps:--say',\n",
       " 'mistook',\n",
       " 'staff',\n",
       " 'scandal.',\n",
       " 'hecuba,',\n",
       " 'minutes',\n",
       " 'seduce!--won',\n",
       " 'wife',\n",
       " 'why',\n",
       " 'follows,',\n",
       " \"him;--but,'\",\n",
       " 'short,',\n",
       " 'cell,',\n",
       " 'wreck',\n",
       " 'hell?',\n",
       " 'hearers',\n",
       " 'full',\n",
       " \"bear't\",\n",
       " 'exit.',\n",
       " 'bawd',\n",
       " 'open',\n",
       " 'ankle;',\n",
       " \"poison'd.\",\n",
       " \"prov'd\",\n",
       " 'forgot',\n",
       " 'jangled,',\n",
       " 'hideous',\n",
       " 'yourself,',\n",
       " 'longer.',\n",
       " 'brazen',\n",
       " 'respects',\n",
       " 'plot',\n",
       " 'masterly',\n",
       " 'schoolfellows,--',\n",
       " '--leave',\n",
       " 'affections',\n",
       " 'insolence',\n",
       " 'ill:',\n",
       " \"where's\",\n",
       " 'brains,',\n",
       " 'bent.--i',\n",
       " 'overdone,',\n",
       " 'carouses',\n",
       " 'task',\n",
       " 'flood,',\n",
       " \"&c.'\",\n",
       " \"that.--pr'ythee,\",\n",
       " 'gifts;',\n",
       " \"unanel'd;\",\n",
       " 'faults',\n",
       " 'whale.',\n",
       " 'speedy',\n",
       " 'bewept',\n",
       " 'death;',\n",
       " 'mouse;',\n",
       " 'pebbles',\n",
       " 'springe,',\n",
       " 'p.',\n",
       " 'actor.',\n",
       " 'three-and-twenty',\n",
       " 'exposing',\n",
       " 'dove,',\n",
       " 'fantastic',\n",
       " 'words',\n",
       " 'couched',\n",
       " 'troubles',\n",
       " 'ladies;',\n",
       " 'to-day',\n",
       " 'you.--good',\n",
       " 'ratifiers',\n",
       " 'giant-like?--',\n",
       " 'canst',\n",
       " 'because',\n",
       " 'now-a-days',\n",
       " \"'to\",\n",
       " 'judgment:',\n",
       " 'fire!',\n",
       " 'late?',\n",
       " 'knowest',\n",
       " 'heaven',\n",
       " 'praying;',\n",
       " 'strict',\n",
       " 'close;',\n",
       " 'quiddits',\n",
       " \"plac'd,\",\n",
       " 'mouse',\n",
       " 'crescent,',\n",
       " 'fran.',\n",
       " 'speak;',\n",
       " 'pansies,',\n",
       " 'honour,--',\n",
       " '[draws',\n",
       " 'itself,',\n",
       " 'bloody,',\n",
       " 'sliver',\n",
       " 'makes',\n",
       " 'pregnant',\n",
       " 'breed.',\n",
       " 'general',\n",
       " 'easier',\n",
       " 'both?',\n",
       " 'backward.',\n",
       " 'otherwise?',\n",
       " 'represented.',\n",
       " 'fortinbras,--',\n",
       " \"fulfill'd\",\n",
       " 'leisure,',\n",
       " 'leaves,',\n",
       " 'exploit,',\n",
       " 'duty',\n",
       " 'marble',\n",
       " 'french,',\n",
       " 'though',\n",
       " \"ta'en\",\n",
       " 'soldier',\n",
       " 'twain!',\n",
       " 'peace-parted',\n",
       " 'clown',\n",
       " 'buzz,',\n",
       " 'yours:',\n",
       " 'actor',\n",
       " 'naught,',\n",
       " 'answerest',\n",
       " 'woe;',\n",
       " 're-deliver',\n",
       " 'endeavour',\n",
       " 'fame,',\n",
       " 'what',\n",
       " 'puppets',\n",
       " \"drown'd?\",\n",
       " 'forgotten',\n",
       " 'mistress!',\n",
       " 'grapple',\n",
       " 'daughter.--my',\n",
       " 'enemy',\n",
       " 'practices',\n",
       " 'fortinbras.',\n",
       " 'exchange,',\n",
       " 'pit!',\n",
       " 'leisure',\n",
       " 'bent,',\n",
       " 'absurd;',\n",
       " 'capable',\n",
       " 'joyfully',\n",
       " 'clown.]',\n",
       " \"priam's\",\n",
       " 'made.',\n",
       " 'complexion.',\n",
       " 'madness.',\n",
       " 'out',\n",
       " 'bringing',\n",
       " 'bodes',\n",
       " 'hercules:',\n",
       " 'aloof',\n",
       " 'doing',\n",
       " 'homage',\n",
       " \"encounter'd.\",\n",
       " 'dreadful',\n",
       " \"speak';\",\n",
       " \"grave's\",\n",
       " 'dream.',\n",
       " 'hems,',\n",
       " 'sexton',\n",
       " 'threats',\n",
       " \"passion's\",\n",
       " 'windlaces,',\n",
       " 'commend',\n",
       " 'sipping,',\n",
       " 'being:',\n",
       " 'courtier',\n",
       " 'moon,',\n",
       " 'them;',\n",
       " \"grows'--the\",\n",
       " 'poll:',\n",
       " 'wherefore?',\n",
       " 'black',\n",
       " \"hyperion's\",\n",
       " 'affront',\n",
       " 'resolve',\n",
       " 'stealers.',\n",
       " 'levied',\n",
       " 'drink',\n",
       " 'hilts,',\n",
       " 'mind,',\n",
       " 'what?',\n",
       " 'drink,',\n",
       " 'outlive',\n",
       " 'gracious',\n",
       " 'meeting:',\n",
       " 'prenominate',\n",
       " 'supper!',\n",
       " 'wittenberg,',\n",
       " 'beast:',\n",
       " 'further?',\n",
       " 'royally:',\n",
       " 'horses:',\n",
       " 'wits.',\n",
       " 'ills',\n",
       " 'cold;',\n",
       " 'standing',\n",
       " 'poisoning?--',\n",
       " 'teeth,',\n",
       " 'little',\n",
       " 'scholars,',\n",
       " 'ordinant.',\n",
       " \"sin's\",\n",
       " 'tragedy,',\n",
       " 'purgation',\n",
       " 'organ.',\n",
       " 'guildenstern!',\n",
       " 'direct',\n",
       " 'counsel.--come,',\n",
       " 'remember',\n",
       " 'calendar',\n",
       " \"screen'd\",\n",
       " 'hit',\n",
       " 'conversation',\n",
       " 'distract:',\n",
       " 'right.',\n",
       " 'his;',\n",
       " 'slow',\n",
       " 'so;',\n",
       " 'battlements',\n",
       " 'humbly',\n",
       " 'overcome',\n",
       " 'ham.',\n",
       " \"consider'd\",\n",
       " 'wife!',\n",
       " 'kindless',\n",
       " '[within.]',\n",
       " 'switzers?',\n",
       " \"do't:\",\n",
       " 'bread;',\n",
       " 'project',\n",
       " 'patient',\n",
       " 'peruse',\n",
       " 'bear,',\n",
       " 'exterior',\n",
       " 'moult',\n",
       " 'ulcerous',\n",
       " 'face?',\n",
       " 'concernancy,',\n",
       " 'declining',\n",
       " 'propose',\n",
       " 'stake.',\n",
       " \"clamb'ring\",\n",
       " 'fifty,',\n",
       " 'climature',\n",
       " 'easing.',\n",
       " 'quaintly',\n",
       " 'infects',\n",
       " \"scholar's,\",\n",
       " 'danger:',\n",
       " 'moods,',\n",
       " 'sanctuarize;',\n",
       " \"labour'd\",\n",
       " \"master's\",\n",
       " \"deliver'd,\",\n",
       " 'revenge!',\n",
       " 'lived,',\n",
       " 'grief,',\n",
       " 'head;',\n",
       " 'remember,--',\n",
       " 'done',\n",
       " 'as,',\n",
       " 'raw',\n",
       " 'garments,',\n",
       " \"serv'd;\",\n",
       " 'shadows.',\n",
       " 'chorus,',\n",
       " \"steep'd,\",\n",
       " \"'and\",\n",
       " 'tempest,',\n",
       " 'tweaks',\n",
       " 'rareness',\n",
       " 'protestation',\n",
       " 'of',\n",
       " 'opposite',\n",
       " 'stoops',\n",
       " 'arms',\n",
       " 'interim',\n",
       " 'million,',\n",
       " 'thee.--something',\n",
       " 'plague,',\n",
       " 'empty',\n",
       " 'relative',\n",
       " 'iii.',\n",
       " 'stowed.',\n",
       " 'true-love',\n",
       " 'faculties!',\n",
       " 'eyes.--pray',\n",
       " 'polonius.]',\n",
       " 'died,',\n",
       " 'instructs',\n",
       " 'night!',\n",
       " 'wheaten',\n",
       " 'twelve.',\n",
       " 'west',\n",
       " 'it.--you',\n",
       " 'aught,',\n",
       " 'worth,',\n",
       " 'yours.',\n",
       " 'stick',\n",
       " 'profane',\n",
       " 'luxury',\n",
       " 'strong',\n",
       " 'vision',\n",
       " 'year:',\n",
       " 'moves',\n",
       " \"o'erteemed\",\n",
       " 'thee:',\n",
       " 'piece',\n",
       " 'insinuation',\n",
       " 'madness',\n",
       " 'clapped',\n",
       " 'star,--',\n",
       " 'make,',\n",
       " 'yours,',\n",
       " 'peace.',\n",
       " 'rage',\n",
       " 'violets,',\n",
       " 'blazes,',\n",
       " 'noble',\n",
       " 'incest.',\n",
       " 'goblin',\n",
       " 'his',\n",
       " 'fellowship,',\n",
       " 'stay!',\n",
       " \"rain'd\",\n",
       " 'credent',\n",
       " 'matters',\n",
       " \"by'r\",\n",
       " 'murder.',\n",
       " \"oppressor's\",\n",
       " \"sale,'--\",\n",
       " \"sleeper's\",\n",
       " 'impress',\n",
       " 'plurisy,',\n",
       " 'violence',\n",
       " 'rash',\n",
       " 'ilium,',\n",
       " 'one.--to',\n",
       " 'speed,',\n",
       " 'dowry,--',\n",
       " 'dallying.',\n",
       " \"purpos'd,\",\n",
       " 'star,',\n",
       " 'afflicts',\n",
       " 'soft',\n",
       " 'indifferent',\n",
       " \"soil'd\",\n",
       " 'vow',\n",
       " 'bernardo.]',\n",
       " 'ceremony',\n",
       " 'wager,',\n",
       " \"'friend,'\",\n",
       " 'has',\n",
       " 'cunning.',\n",
       " 'raven',\n",
       " 'hercules',\n",
       " 'king.]',\n",
       " 'coil,',\n",
       " 'notes,',\n",
       " 'imminent.',\n",
       " 'tread',\n",
       " 'denmark?--what,',\n",
       " 'hence',\n",
       " 'hitherto',\n",
       " 'phrase,',\n",
       " \"thou'rt\",\n",
       " 'devices',\n",
       " 'stir',\n",
       " 'above;',\n",
       " 'vicious',\n",
       " 'hollow',\n",
       " '2',\n",
       " 'hoar',\n",
       " 'ambassador',\n",
       " 'returns,--puzzles',\n",
       " 'flaw!',\n",
       " 'loan',\n",
       " 'rascal,',\n",
       " 'born,--it',\n",
       " 'rage;',\n",
       " \"prov'd,--that\",\n",
       " 'fruit',\n",
       " 'serves',\n",
       " 'phrase:',\n",
       " 'hearts',\n",
       " \"advanc'd\",\n",
       " 'secrets',\n",
       " 'throne;',\n",
       " 'instances',\n",
       " 'assay',\n",
       " 'bounty.',\n",
       " 'imagination.',\n",
       " \"unproportion'd\",\n",
       " 'greet',\n",
       " 'scope',\n",
       " 'foul,',\n",
       " 'soul!',\n",
       " 'himself,',\n",
       " 'rash,',\n",
       " 'bid',\n",
       " 'rise,',\n",
       " 'matter',\n",
       " 'heaven?',\n",
       " 'him,',\n",
       " 'ones',\n",
       " 'followed',\n",
       " 'gross',\n",
       " 'meditation',\n",
       " 'feast',\n",
       " 'afar',\n",
       " 'truth',\n",
       " 'fruits',\n",
       " 'skull,',\n",
       " 'arms,',\n",
       " 'madam!',\n",
       " 'same.',\n",
       " 'rashness',\n",
       " 'hamlet.]',\n",
       " 'poland,',\n",
       " 'officers',\n",
       " 'back?',\n",
       " 'speak!',\n",
       " 'ease,',\n",
       " 'nine;',\n",
       " 'attendants].',\n",
       " 'fawning.',\n",
       " '[grappling',\n",
       " 'moment',\n",
       " 'go;',\n",
       " 'kettle',\n",
       " 'down!',\n",
       " 'conjunctive',\n",
       " 'will',\n",
       " 'porches',\n",
       " 'trip',\n",
       " 'wild;',\n",
       " 'conqueror:',\n",
       " 'can',\n",
       " 'purpose.',\n",
       " 'assail',\n",
       " 'remember?',\n",
       " 'metals',\n",
       " \"'we\",\n",
       " 'outrageous',\n",
       " 'seated',\n",
       " 'church;',\n",
       " 'hamlet:',\n",
       " 'fortified',\n",
       " 'attendants',\n",
       " 'cleave',\n",
       " 'reckless',\n",
       " \"there's\",\n",
       " '[makes',\n",
       " \"engag'd!\",\n",
       " \"th'\",\n",
       " 'hazard',\n",
       " 'violet',\n",
       " 'else?',\n",
       " 'woe.',\n",
       " 'commission;',\n",
       " 'toward',\n",
       " 'repent',\n",
       " \"for't:\",\n",
       " 'ambition',\n",
       " 'hand',\n",
       " 'moon',\n",
       " 'potent',\n",
       " 'closet',\n",
       " 'presence',\n",
       " 'speaks',\n",
       " 'here!',\n",
       " 'dozen',\n",
       " \"[reads]'high\",\n",
       " 'skull',\n",
       " 'green',\n",
       " 'jot',\n",
       " 'welcome,',\n",
       " \"pull'd\",\n",
       " 'away!--go',\n",
       " 'a',\n",
       " 'coronation;',\n",
       " 'sides;',\n",
       " 'craft.',\n",
       " 'lords.',\n",
       " 'adventurous',\n",
       " 'pressures',\n",
       " 'may;',\n",
       " 'patch',\n",
       " 'sprinkle',\n",
       " 'fay,',\n",
       " 'stays:',\n",
       " 'o,',\n",
       " 'ophelia',\n",
       " 'beckons',\n",
       " \"unhous'led,\",\n",
       " 'audience.',\n",
       " 'not:--withdraw;',\n",
       " 'repast',\n",
       " 'ye!',\n",
       " 'mew,',\n",
       " 'thus.',\n",
       " 'nose?',\n",
       " \"i'm\",\n",
       " 'officer.',\n",
       " 'show;',\n",
       " 'undo',\n",
       " 'thereof',\n",
       " 'throat',\n",
       " 'secret',\n",
       " 'life-rendering',\n",
       " 'becomes',\n",
       " 'me',\n",
       " \"seem'd\",\n",
       " \"be:'\",\n",
       " 'strength',\n",
       " 'commutual',\n",
       " 'happily,',\n",
       " 'other,--',\n",
       " 'dumb;',\n",
       " 'bones,',\n",
       " 'cast',\n",
       " 'fly',\n",
       " 'espials,--',\n",
       " 'corse',\n",
       " 'too;--at',\n",
       " 'wax,',\n",
       " 'hobby-horse,',\n",
       " 'looked',\n",
       " 'power',\n",
       " 'winking,',\n",
       " 'nonny',\n",
       " 'bevy',\n",
       " \"touch'd,\",\n",
       " 'spirits,',\n",
       " 'patience',\n",
       " 'friends:',\n",
       " 'leave,',\n",
       " 'dismay.',\n",
       " 'end.',\n",
       " 'aught:',\n",
       " 'villanous',\n",
       " 'sovereignty',\n",
       " 'manner',\n",
       " \"fortune's\",\n",
       " 'rosencrantz',\n",
       " 'broke;',\n",
       " 'service',\n",
       " 'pure',\n",
       " 'had',\n",
       " 'wrong',\n",
       " 'shell',\n",
       " 'meant?',\n",
       " 'and,',\n",
       " 'expostulate',\n",
       " \"yeoman's\",\n",
       " 'welcome,--his',\n",
       " 'mightier:',\n",
       " 'pendant',\n",
       " 'receive',\n",
       " 'fadoms',\n",
       " \"brother's\",\n",
       " 'took',\n",
       " 'field,',\n",
       " 'again:',\n",
       " 'arm,',\n",
       " 'burn,',\n",
       " 'made,',\n",
       " 'overdone',\n",
       " 'books,',\n",
       " 'extent',\n",
       " 'sick',\n",
       " 'lord:',\n",
       " \"gonzago'?\",\n",
       " 'journeys',\n",
       " \"thou.'\",\n",
       " 'sullies',\n",
       " 'quick',\n",
       " 'box;',\n",
       " 'her',\n",
       " 'depend',\n",
       " 'bird',\n",
       " 'lank',\n",
       " 'coming:',\n",
       " \"unforc'd\",\n",
       " 'smote',\n",
       " 'right',\n",
       " 'actors',\n",
       " 'trumpets,',\n",
       " 'seasons',\n",
       " 'else,',\n",
       " 'even',\n",
       " 'wish',\n",
       " 'golden',\n",
       " 'quantity',\n",
       " \"reveng'd,\",\n",
       " 'aboard,',\n",
       " 'chough;',\n",
       " 'persevere',\n",
       " 'stopping',\n",
       " 'perdy.',\n",
       " 'salt',\n",
       " 'claim',\n",
       " 'hourly',\n",
       " 'stand,',\n",
       " 'merry?',\n",
       " 'guest',\n",
       " 'wards,',\n",
       " 'sense',\n",
       " 'ministering',\n",
       " 'melancholy,--',\n",
       " 'myself,--lawful',\n",
       " 'queen:',\n",
       " 'prisoner.',\n",
       " 'primy',\n",
       " 'daughter,',\n",
       " 'rapiers,',\n",
       " 'carve',\n",
       " 'kneels,',\n",
       " 'reels;',\n",
       " 'ways',\n",
       " 'owner',\n",
       " 'lust',\n",
       " 'cannot,',\n",
       " 'friendship,',\n",
       " 'quarrel;',\n",
       " 'inward',\n",
       " 'complexion,',\n",
       " 'lads,',\n",
       " 'ship',\n",
       " 'sweet;',\n",
       " 'dies.]',\n",
       " 'swift',\n",
       " 'charge.',\n",
       " 'bird,',\n",
       " 'here.',\n",
       " 'question',\n",
       " 'true.',\n",
       " 'howling.',\n",
       " 'market',\n",
       " 'foils;',\n",
       " 'cock',\n",
       " 'abstinence:',\n",
       " 'flowers;',\n",
       " 'compounded',\n",
       " 'villain',\n",
       " 'villain;',\n",
       " 'portraiture',\n",
       " \"husband's\",\n",
       " 'weedy',\n",
       " 'life;',\n",
       " 'clemency,',\n",
       " 'money',\n",
       " 'heart;',\n",
       " 'impetuous',\n",
       " 'eastward',\n",
       " \"unbrac'd;\",\n",
       " 'hope',\n",
       " 'capons',\n",
       " 'command,',\n",
       " 'contagion',\n",
       " 'heathen?',\n",
       " 'eternal',\n",
       " 'hue',\n",
       " 'observe',\n",
       " 'steel;',\n",
       " 'drains',\n",
       " 'provincial',\n",
       " 'prize',\n",
       " 'thee,',\n",
       " 'weal',\n",
       " 'sort,',\n",
       " 'bended',\n",
       " 'effect',\n",
       " 'mines',\n",
       " 'been,',\n",
       " 'conception',\n",
       " 'mars,',\n",
       " 'angels',\n",
       " 'ha?',\n",
       " 'enterprises',\n",
       " 'poet',\n",
       " 'garland',\n",
       " 'base;',\n",
       " 'reckoning',\n",
       " 'capitol;',\n",
       " 'drum',\n",
       " 'son--',\n",
       " 'corse,',\n",
       " 'scape',\n",
       " 'rebuke',\n",
       " \"on't;\",\n",
       " 'law.',\n",
       " 'feeds',\n",
       " 'marriage',\n",
       " 'name,',\n",
       " 'point',\n",
       " 'sirs,',\n",
       " 'rest!',\n",
       " 'forces.]',\n",
       " 'speech,',\n",
       " 'air',\n",
       " 'by-and-by.',\n",
       " 'fault',\n",
       " \"perform'd,\",\n",
       " \"unmatch'd\",\n",
       " 'heart,--for',\n",
       " 'gules;',\n",
       " 'cunnings,--',\n",
       " 'pronounced',\n",
       " 'effect;',\n",
       " 'hears',\n",
       " 'works,--',\n",
       " 'sound.',\n",
       " '[hamlet',\n",
       " 'shoes,',\n",
       " 'matter?',\n",
       " 'passionate',\n",
       " 'meats',\n",
       " 'camel',\n",
       " 'affection',\n",
       " 'wantonness',\n",
       " 'beast,--',\n",
       " 'like:--it',\n",
       " \"women's\",\n",
       " 'betimes?',\n",
       " 'bawdy',\n",
       " 'picture,',\n",
       " 'teach',\n",
       " 'twelve,',\n",
       " 'knife',\n",
       " 'look',\n",
       " 'upon',\n",
       " 'loam',\n",
       " 'weapons:--but',\n",
       " 'were',\n",
       " 'odds.',\n",
       " 'winnowed',\n",
       " 'lack',\n",
       " \"devis'd\",\n",
       " 'person,',\n",
       " 'ass,--',\n",
       " 'pardon',\n",
       " 'presently:--o,',\n",
       " 'scent',\n",
       " 'who?',\n",
       " 'hide',\n",
       " 'witch',\n",
       " 'capability',\n",
       " 'wondrous',\n",
       " 'thus',\n",
       " 'mad?',\n",
       " '[falls',\n",
       " 'horrible',\n",
       " 'brute',\n",
       " 'mould',\n",
       " 'pickers',\n",
       " 'yours',\n",
       " 'glass',\n",
       " 'witching',\n",
       " 'less,',\n",
       " 'fain',\n",
       " 'wisest',\n",
       " 'gain',\n",
       " 'rest;',\n",
       " 'thousand',\n",
       " 'hectic',\n",
       " \"hallow'd\",\n",
       " 'gall',\n",
       " 'hasten',\n",
       " 'tax',\n",
       " 'no',\n",
       " ...}"
      ]
     },
     "execution_count": 51,
     "metadata": {},
     "output_type": "execute_result"
    }
   ],
   "source": [
    "uniquelctokens=set(hamletlctokens)\n",
    "uniquelctokens"
   ]
  },
  {
   "cell_type": "code",
   "execution_count": 130,
   "metadata": {},
   "outputs": [],
   "source": [
    "tokendict={}\n",
    "for ut in uniquelctokens:\n",
    "    tokendict[ut]=hamletlctokens.count(ut)\n",
    "    #print(tokendict)"
   ]
  },
  {
   "cell_type": "markdown",
   "metadata": {},
   "source": [
    "We find the 100 most used words..."
   ]
  },
  {
   "cell_type": "code",
   "execution_count": 123,
   "metadata": {
    "collapsed": true
   },
   "outputs": [],
   "source": [
    "\n",
    "from collections import OrderedDict\n",
    "from operator import itemgetter  \n",
    "#tokendict.items()\n",
    "#L=sorted( tokendict.items(), key= (lambda k,v: v) , reverse=True)[:100]\n",
    "#L=sorted(tokendict.items(), key= lambda tokendict.items(): tokendict.items()[1] , reverse=True)[:100]\n",
    "\n",
    "#from itertools import starmap\n",
    "#L=sorted(tokendict.items(),key =tokendict.values(),reverse=True)[:100]\n",
    "\n",
    "L=sorted(tokendict.items(), key =itemgetter(1) , reverse=True)[:100]\n",
    "\n",
    "# print(list(starmap(lambda key, value: int(value), ss.items())))\n",
    "#L\n",
    "#for key, value in sorted(tokendict.iteritems(), key=lambda (k,v): (v,k)):\n",
    " #   print \"%s: %s\" % (key, value)\n"
   ]
  },
  {
   "cell_type": "markdown",
   "metadata": {},
   "source": [
    "Lets get the top 20 of this and plot a bar chart!"
   ]
  },
  {
   "cell_type": "code",
   "execution_count": 125,
   "metadata": {},
   "outputs": [
    {
     "name": "stdout",
     "output_type": "stream",
     "text": [
      "[('the', 1136), ('and', 943), ('to', 720), ('of', 667), ('a', 527), ('my', 512), ('i', 510), ('in', 420), ('you', 412), ('ham.', 358), ('that', 337), ('it', 324), ('is', 320), ('his', 295), ('not', 270), ('with', 264), ('this', 250), ('your', 241), ('for', 231), ('but', 228)]\n"
     ]
    },
    {
     "data": {
      "image/png": "[encoded data removed]",
      "text/plain": [
       "<matplotlib.figure.Figure at 0x111b4a7b8>"
      ]
     },
     "metadata": {},
     "output_type": "display_data"
    }
   ],
   "source": [
    "topfreq=L[:20]\n",
    "print (topfreq)\n",
    "pos = np.arange(len(topfreq))\n",
    "plt.bar(pos, [e[1] for e in topfreq]);\n",
    "plt.xticks(pos+0.4, [e[0] for e in topfreq]);"
   ]
  },
  {
   "cell_type": "code",
   "execution_count": null,
   "metadata": {
    "collapsed": true
   },
   "outputs": [],
   "source": []
  }
 ],
 "metadata": {
  "kernelspec": {
   "display_name": "Python 3",
   "language": "python",
   "name": "python3"
  },
  "language_info": {
   "codemirror_mode": {
    "name": "ipython",
    "version": 3
   },
   "file_extension": ".py",
   "mimetype": "text/x-python",
   "name": "python",
   "nbconvert_exporter": "python",
   "pygments_lexer": "ipython3",
   "version": "3.6.1"
  }
 },
 "nbformat": 4,
 "nbformat_minor": 1
}
